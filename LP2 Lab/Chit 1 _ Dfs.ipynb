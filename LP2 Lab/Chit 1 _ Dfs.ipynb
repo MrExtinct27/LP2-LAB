{
 "cells": [
  {
   "cell_type": "code",
   "execution_count": 15,
   "id": "15ac670a",
   "metadata": {},
   "outputs": [
    {
     "name": "stdout",
     "output_type": "stream",
     "text": [
      "Following is Depth First Traversal H -> E:\n",
      "H A D F B C E "
     ]
    }
   ],
   "source": [
    "from collections import defaultdict, deque\n",
    "\n",
    "class Graph:\n",
    "    directed = True\n",
    "\n",
    "    def __init__(self):\n",
    "        self.graph = defaultdict(list)\n",
    "\n",
    "    def addEdge(self, u, v):\n",
    "        self.graph[u].append(v)\n",
    "\n",
    "        if not self.directed:\n",
    "            self.graph[v].append(u)\n",
    "\n",
    "    def DFS(self, v, d, visitSet = None) -> bool:\n",
    "        visited = visitSet or set()\n",
    "        visited.add(v)\n",
    "        print(v,end=\" \")\n",
    "\n",
    "        if v == d:\n",
    "            return True\n",
    "\n",
    "        for neighbour in self.graph[v]:\n",
    "            if neighbour not in visited:\n",
    "                if self.DFS(neighbour, d, visited):\n",
    "                    return True\n",
    "\n",
    "        return False\n",
    "\n",
    "\n",
    "\n",
    "# A1.png\n",
    "\n",
    "if __name__ == '__main__':\n",
    "    g = Graph()\n",
    "\n",
    "    g.addEdge('H', 'A')\n",
    "    g.addEdge('A', 'D')\n",
    "    g.addEdge('A', 'B')\n",
    "    g.addEdge('B', 'F')\n",
    "    g.addEdge('B', 'C')\n",
    "    g.addEdge('C', 'E')\n",
    "    g.addEdge('C', 'G')\n",
    "    g.addEdge('C', 'H')\n",
    "    g.addEdge('G', 'H')\n",
    "    g.addEdge('G', 'E')\n",
    "    g.addEdge('E', 'F')\n",
    "    g.addEdge('E', 'B')\n",
    "    g.addEdge('F', 'A')\n",
    "    g.addEdge('D', 'F')\n",
    "\n",
    "   \n",
    "\n",
    "    print(\"Following is Depth First Traversal H -> E:\")\n",
    "    g.DFS('H', 'E')\n"
   ]
  },
  {
   "cell_type": "code",
   "execution_count": null,
   "id": "7187f65d",
   "metadata": {},
   "outputs": [],
   "source": []
  }
 ],
 "metadata": {
  "kernelspec": {
   "display_name": "Python 3 (ipykernel)",
   "language": "python",
   "name": "python3"
  },
  "language_info": {
   "codemirror_mode": {
    "name": "ipython",
    "version": 3
   },
   "file_extension": ".py",
   "mimetype": "text/x-python",
   "name": "python",
   "nbconvert_exporter": "python",
   "pygments_lexer": "ipython3",
   "version": "3.9.13"
  }
 },
 "nbformat": 4,
 "nbformat_minor": 5
}
