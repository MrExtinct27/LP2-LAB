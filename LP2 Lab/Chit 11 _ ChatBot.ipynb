{
 "cells": [
  {
   "cell_type": "code",
   "execution_count": 1,
   "id": "3e04e8eb",
   "metadata": {},
   "outputs": [
    {
     "name": "stdout",
     "output_type": "stream",
     "text": [
      "Hello! Welcome to our book shop. How can I assist you today?\n",
      "Books that are available now are: ['DSA', 'OOP', 'ML', 'AI', 'CC']\n",
      "Which book are you looking for? DSA\n",
      "How many books would you like to buy? 2\n",
      "The total price for 2 DSA(s) is Rs 200\n",
      "Thank you for shopping with us!\n"
     ]
    }
   ],
   "source": [
    "def get_book():\n",
    "    books = [\"DSA\", \"OOP\", \"ML\", \"AI\", \"CC\"]\n",
    " \n",
    "    print(\"Hello! Welcome to our book shop. How can I assist you today?\")\n",
    "    print(\"Books that are available now are:\",books)\n",
    " \n",
    "    book = input(\"Which book are you looking for? \")\n",
    " \n",
    "    book = book.upper()\n",
    "    while book not in books:\n",
    " \n",
    "        print(\"Sorry, we don't have that book. Please choose from the available options.\")\n",
    "        book = input(\"Which book would you like to buy? \")\n",
    "        book = book.upper()\n",
    "    return book\n",
    " \n",
    "def get_quantity():\n",
    "    quantity = input(\"How many books would you like to buy? \")\n",
    "    while not quantity.isdigit() or int(quantity) <= 0:\n",
    "        print(\"Please enter a valid quantity.\")\n",
    "        quantity = input(\"How many books would you like to buy? \")\n",
    "    return int(quantity)\n",
    " \n",
    "def calculate_price(book, quantity):\n",
    "    prices = {\"DSA\": 100, \"OOP\": 150, \"ML\": 300, \"AI\": 450, \"CC\": 200}\n",
    "    price = prices[book] * quantity\n",
    "    return price\n",
    " \n",
    "def main():\n",
    " \n",
    " \n",
    "    book=get_book()\n",
    "    quantity = get_quantity()\n",
    "    price = calculate_price(book, quantity)\n",
    "    print(f\"The total price for {quantity} {book}(s) is Rs {price}\")\n",
    "    print(\"Thank you for shopping with us!\")\n",
    " \n",
    "# Run the chatbot\n",
    "main()\n"
   ]
  },
  {
   "cell_type": "code",
   "execution_count": null,
   "id": "65752df6",
   "metadata": {},
   "outputs": [],
   "source": []
  }
 ],
 "metadata": {
  "kernelspec": {
   "display_name": "Python 3 (ipykernel)",
   "language": "python",
   "name": "python3"
  },
  "language_info": {
   "codemirror_mode": {
    "name": "ipython",
    "version": 3
   },
   "file_extension": ".py",
   "mimetype": "text/x-python",
   "name": "python",
   "nbconvert_exporter": "python",
   "pygments_lexer": "ipython3",
   "version": "3.9.13"
  }
 },
 "nbformat": 4,
 "nbformat_minor": 5
}
